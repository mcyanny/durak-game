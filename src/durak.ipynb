{
 "cells": [
  {
   "cell_type": "code",
   "execution_count": 10,
   "metadata": {},
   "outputs": [],
   "source": [
    "from Game import Game"
   ]
  },
  {
   "cell_type": "code",
   "execution_count": 12,
   "metadata": {},
   "outputs": [
    {
     "ename": "AttributeError",
     "evalue": "'Game' object has no attribute 'CARD_MIN_MAX'",
     "output_type": "error",
     "traceback": [
      "\u001b[0;31m---------------------------------------------------------------------------\u001b[0m",
      "\u001b[0;31mAttributeError\u001b[0m                            Traceback (most recent call last)",
      "Cell \u001b[0;32mIn[12], line 1\u001b[0m\n\u001b[0;32m----> 1\u001b[0m game \u001b[38;5;241m=\u001b[39m \u001b[43mGame\u001b[49m\u001b[43m(\u001b[49m\u001b[43m)\u001b[49m\n\u001b[1;32m      2\u001b[0m j\u001b[38;5;241m=\u001b[39m\u001b[38;5;241m1\u001b[39m\n",
      "File \u001b[0;32m~/durak-game/src/Game.py:6\u001b[0m, in \u001b[0;36m__init__\u001b[0;34m(self)\u001b[0m\n\u001b[1;32m      4\u001b[0m \u001b[38;5;28;01mclass\u001b[39;00m \u001b[38;5;21;01mGame\u001b[39;00m():\n\u001b[1;32m      5\u001b[0m     \u001b[38;5;28;01mdef\u001b[39;00m \u001b[38;5;21m__init__\u001b[39m(\u001b[38;5;28mself\u001b[39m, num_players_arg: \u001b[38;5;28mint\u001b[39m \u001b[38;5;241m=\u001b[39m \u001b[38;5;28;01mNone\u001b[39;00m, \n\u001b[0;32m----> 6\u001b[0m                  SUITS: Tuple[\u001b[38;5;28mstr\u001b[39m] \u001b[38;5;241m=\u001b[39m (\u001b[38;5;124m'\u001b[39m\u001b[38;5;124m♥\u001b[39m\u001b[38;5;124m'\u001b[39m, \u001b[38;5;124m'\u001b[39m\u001b[38;5;124m♦\u001b[39m\u001b[38;5;124m'\u001b[39m, \u001b[38;5;124m'\u001b[39m\u001b[38;5;124m♣\u001b[39m\u001b[38;5;124m'\u001b[39m, \u001b[38;5;124m'\u001b[39m\u001b[38;5;124m♠\u001b[39m\u001b[38;5;124m'\u001b[39m),\n\u001b[1;32m      7\u001b[0m                  CARDS_PER_HAND: \u001b[38;5;28mint\u001b[39m \u001b[38;5;241m=\u001b[39m \u001b[38;5;241m6\u001b[39m,\n\u001b[1;32m      8\u001b[0m                  CARDS_MIN_MAX: Tuple[\u001b[38;5;28mint\u001b[39m, \u001b[38;5;28mint\u001b[39m] \u001b[38;5;241m=\u001b[39m (\u001b[38;5;241m6\u001b[39m, \u001b[38;5;241m15\u001b[39m),\n\u001b[1;32m      9\u001b[0m                  PLAYERS_MIN_MAX: Tuple[\u001b[38;5;28mint\u001b[39m, \u001b[38;5;28mint\u001b[39m] \u001b[38;5;241m=\u001b[39m (\u001b[38;5;241m2\u001b[39m, \u001b[38;5;241m5\u001b[39m)):\n\u001b[1;32m     11\u001b[0m         deck \u001b[38;5;241m=\u001b[39m [(value, suit) \u001b[38;5;28;01mfor\u001b[39;00m value \u001b[38;5;129;01min\u001b[39;00m \n\u001b[1;32m     12\u001b[0m                 \u001b[38;5;28mrange\u001b[39m(\u001b[38;5;28mself\u001b[39m\u001b[38;5;241m.\u001b[39mCARD_MIN_MAX[\u001b[38;5;241m0\u001b[39m], \u001b[38;5;28mself\u001b[39m\u001b[38;5;241m.\u001b[39mCARD_MIN_MAX[\u001b[38;5;241m1\u001b[39m]) \n\u001b[1;32m     13\u001b[0m                 \u001b[38;5;28;01mfor\u001b[39;00m suit \u001b[38;5;129;01min\u001b[39;00m \u001b[38;5;28mself\u001b[39m\u001b[38;5;241m.\u001b[39mSUITS]\n\u001b[1;32m     15\u001b[0m         shuffle(deck)\n",
      "\u001b[0;31mAttributeError\u001b[0m: 'Game' object has no attribute 'CARD_MIN_MAX'"
     ]
    }
   ],
   "source": [
    "game = Game()\n",
    "state = game.init_state()\n",
    "players = game.init_players()\n",
    "state.set_players(players)\n",
    "\n",
    "while(True): #stops when one player remaining\n",
    "    #One Turn\n",
    "    att, att2, deff = state.get_stage() #gets players for a given turn\n",
    "    \n",
    "    while(Turn): #while a turn is happening\n",
    "        state = att.get_move(state)\n",
    "        state = deff.get_move(state)\n",
    "        \n",
    "        while (not state.changed?):\n",
    "            state = att.get_move(state)\n",
    "            state = deff.get_move(state)\n",
    "        \n",
    "        while (not state.changed?):\n",
    "            state = att2.get_move(state)\n",
    "            state = deff.get_move(state)\n",
    "            \n",
    "        if (defender took):\n",
    "            for player in players:\n",
    "                player.give_cards()\n",
    "        \n",
    "        state.reset_floor() #draws, sets new players, disqualifies no card idiots\n",
    "\n",
    "#end of game"
   ]
  }
 ],
 "metadata": {
  "kernelspec": {
   "display_name": "Python 3",
   "language": "python",
   "name": "python3"
  },
  "language_info": {
   "codemirror_mode": {
    "name": "ipython",
    "version": 3
   },
   "file_extension": ".py",
   "mimetype": "text/x-python",
   "name": "python",
   "nbconvert_exporter": "python",
   "pygments_lexer": "ipython3",
   "version": "3.11.4"
  }
 },
 "nbformat": 4,
 "nbformat_minor": 2
}
