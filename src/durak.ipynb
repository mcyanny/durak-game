{
 "cells": [
  {
   "cell_type": "code",
   "execution_count": null,
   "metadata": {},
   "outputs": [],
   "source": [
    "from Game import Game"
   ]
  },
  {
   "cell_type": "code",
   "execution_count": null,
   "metadata": {},
   "outputs": [],
   "source": [
    "game = Game()\n",
    "state = game.init_state()\n",
    "players = game.init_players()\n",
    "\n",
    "\n",
    "while(True): #stops when one player remaining\n",
    "    #One Turn\n",
    "    att, att2, deff = state.get_stage() #gets players for a given turn\n",
    "    \n",
    "    while(Turn): #while a turn is happening\n",
    "        state = att.get_move(state)\n",
    "        state = deff.get_move(state)\n",
    "        \n",
    "        while (not state.changed?):\n",
    "            state = att.get_move(state)\n",
    "            state = deff.get_move(state)\n",
    "        \n",
    "        while (not state.changed?):\n",
    "            state = att2.get_move(state)\n",
    "            state = deff.get_move(state)\n",
    "            \n",
    "        if (defender took):\n",
    "            for player in players:\n",
    "                player.give_cards()\n",
    "        \n",
    "        state.reset_floor() #draws, sets new players, disqualifies no card idiots\n",
    "\n",
    "#end of game"
   ]
  },
  {
   "cell_type": "code",
   "execution_count": 10,
   "metadata": {},
   "outputs": [
    {
     "ename": "KeyError",
     "evalue": "<Player.Player object at 0x104f736d0>",
     "output_type": "error",
     "traceback": [
      "\u001b[0;31m---------------------------------------------------------------------------\u001b[0m",
      "\u001b[0;31mKeyError\u001b[0m                                  Traceback (most recent call last)",
      "Cell \u001b[0;32mIn[10], line 6\u001b[0m\n\u001b[1;32m      4\u001b[0m state \u001b[38;5;241m=\u001b[39m game\u001b[38;5;241m.\u001b[39minit_state()\n\u001b[1;32m      5\u001b[0m players \u001b[38;5;241m=\u001b[39m game\u001b[38;5;241m.\u001b[39minit_players(state)\n\u001b[0;32m----> 6\u001b[0m \u001b[43mstate\u001b[49m\u001b[38;5;241;43m.\u001b[39;49m\u001b[43mdeal_cards\u001b[49m\u001b[43m(\u001b[49m\u001b[43m)\u001b[49m\n\u001b[1;32m      7\u001b[0m j\u001b[38;5;241m=\u001b[39m\u001b[38;5;241m1\u001b[39m\n",
      "File \u001b[0;32m~/durak-game/src/State.py:23\u001b[0m, in \u001b[0;36mState.deal_cards\u001b[0;34m(self)\u001b[0m\n\u001b[1;32m     21\u001b[0m \u001b[38;5;250m\u001b[39m\u001b[38;5;124;03m\"\"\"draws cards til 6 for each player\"\"\"\u001b[39;00m\n\u001b[1;32m     22\u001b[0m \u001b[38;5;28;01mfor\u001b[39;00m player \u001b[38;5;129;01min\u001b[39;00m \u001b[38;5;28mself\u001b[39m\u001b[38;5;241m.\u001b[39mplayers:\n\u001b[0;32m---> 23\u001b[0m     \u001b[38;5;28;01mwhile\u001b[39;00m (\u001b[38;5;28mlen\u001b[39m(\u001b[38;5;28;43mself\u001b[39;49m\u001b[38;5;241;43m.\u001b[39;49m\u001b[43mhands\u001b[49m\u001b[43m[\u001b[49m\u001b[43mplayer\u001b[49m\u001b[43m]\u001b[49m) \u001b[38;5;241m<\u001b[39m \u001b[38;5;241m6\u001b[39m):\n\u001b[1;32m     24\u001b[0m         \u001b[38;5;28mself\u001b[39m\u001b[38;5;241m.\u001b[39mhands[player]\u001b[38;5;241m.\u001b[39mappend(\u001b[38;5;28mself\u001b[39m\u001b[38;5;241m.\u001b[39mdeck\u001b[38;5;241m.\u001b[39mpop())\n",
      "\u001b[0;31mKeyError\u001b[0m: <Player.Player object at 0x104f736d0>"
     ]
    }
   ],
   "source": [
    "from Game import Game\n",
    "\n",
    "game = Game()\n",
    "state = game.init_state()\n",
    "players = game.init_players(state)\n",
    "state.deal_cards()\n",
    "j=1\n"
   ]
  }
 ],
 "metadata": {
  "kernelspec": {
   "display_name": "Python 3",
   "language": "python",
   "name": "python3"
  },
  "language_info": {
   "codemirror_mode": {
    "name": "ipython",
    "version": 3
   },
   "file_extension": ".py",
   "mimetype": "text/x-python",
   "name": "python",
   "nbconvert_exporter": "python",
   "pygments_lexer": "ipython3",
   "version": "3.11.4"
  }
 },
 "nbformat": 4,
 "nbformat_minor": 2
}
