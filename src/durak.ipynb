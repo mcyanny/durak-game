{
 "cells": [
  {
   "cell_type": "code",
   "execution_count": null,
   "metadata": {},
   "outputs": [],
   "source": [
    "from Game import Game"
   ]
  },
  {
   "cell_type": "code",
   "execution_count": null,
   "metadata": {},
   "outputs": [],
   "source": [
    "game = Game()\n",
    "state = game.init_state()\n",
    "players = game.init_players()\n",
    "\n",
    "\n",
    "while(True): #stops when one player remaining\n",
    "    #One Turn\n",
    "    att, att2, deff = state.get_stage() #gets players for a given turn\n",
    "    \n",
    "    while(Turn): #while a turn is happening\n",
    "        state = att.get_move(state)\n",
    "        state = deff.get_move(state)\n",
    "        \n",
    "        while (not state.changed?):\n",
    "            state = att.get_move(state)\n",
    "            state = deff.get_move(state)\n",
    "        \n",
    "        while (not state.changed?):\n",
    "            state = att2.get_move(state)\n",
    "            state = deff.get_move(state)\n",
    "            \n",
    "        if (defender took):\n",
    "            for player in players:\n",
    "                player.give_cards()\n",
    "        \n",
    "        state.reset_floor() #draws, sets new players, disqualifies no card idiots\n",
    "\n",
    "#end of game"
   ]
  },
  {
   "cell_type": "code",
   "execution_count": 3,
   "metadata": {},
   "outputs": [],
   "source": [
    "from Game import Game\n",
    "\n",
    "game = Game()\n",
    "state = game.init_state()\n",
    "players = game.init_players(state)\n",
    "state.deal_cards()\n",
    "j=1\n"
   ]
  }
 ],
 "metadata": {
  "kernelspec": {
   "display_name": "Python 3",
   "language": "python",
   "name": "python3"
  },
  "language_info": {
   "codemirror_mode": {
    "name": "ipython",
    "version": 3
   },
   "file_extension": ".py",
   "mimetype": "text/x-python",
   "name": "python",
   "nbconvert_exporter": "python",
   "pygments_lexer": "ipython3",
   "version": "3.11.4"
  }
 },
 "nbformat": 4,
 "nbformat_minor": 2
}
